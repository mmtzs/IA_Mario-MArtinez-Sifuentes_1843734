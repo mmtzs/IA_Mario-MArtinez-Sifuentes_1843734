{
  "nbformat": 4,
  "nbformat_minor": 0,
  "metadata": {
    "colab": {
      "name": "MMS1843734.ipynb",
      "provenance": [],
      "collapsed_sections": [],
      "toc_visible": true,
      "authorship_tag": "ABX9TyO6AZ6dYBzP/tzCUupmflYc",
      "include_colab_link": true
    },
    "kernelspec": {
      "name": "python3",
      "display_name": "Python 3"
    },
    "language_info": {
      "name": "python"
    }
  },
  "cells": [
    {
      "cell_type": "markdown",
      "metadata": {
        "id": "view-in-github",
        "colab_type": "text"
      },
      "source": [
        "<a href=\"https://colab.research.google.com/github/mmtzs/IA_Mario-MArtinez-Sifuentes_1843734/blob/main/Primer_Examen_Parcial_Sabatinos/MMS1843734.ipynb\" target=\"_parent\"><img src=\"https://colab.research.google.com/assets/colab-badge.svg\" alt=\"Open In Colab\"/></a>"
      ]
    },
    {
      "cell_type": "code",
      "metadata": {
        "colab": {
          "base_uri": "https://localhost:8080/"
        },
        "id": "xzE3CoRfIJgN",
        "outputId": "b549bfe4-60c5-473c-e25d-c20542918791"
      },
      "source": [
        "n = int(input('Enter a number:'))              \n",
        "while n <= 1:\n",
        "    n = int(input('Please input a new number'))\n",
        "total = 0\n",
        "my_sum = 0\n",
        "while (n - 1) >= total:\n",
        "    total = total + 1\n",
        "    my_sum += total\n",
        "    print(my_sum)"
      ],
      "execution_count": 1,
      "outputs": [
        {
          "output_type": "stream",
          "name": "stdout",
          "text": [
            "Enter a number:3\n",
            "1\n",
            "3\n",
            "6\n"
          ]
        }
      ]
    },
    {
      "cell_type": "code",
      "metadata": {
        "colab": {
          "base_uri": "https://localhost:8080/"
        },
        "id": "KUtzondnIP30",
        "outputId": "9545b5df-c1e0-42d2-c5b2-006c763bcc03"
      },
      "source": [
        "n = int(input(\"Enter the Number: \"))\n",
        "print(n * (n + 1) // 2)"
      ],
      "execution_count": 2,
      "outputs": [
        {
          "output_type": "stream",
          "name": "stdout",
          "text": [
            "Enter the Number: 3\n",
            "6\n"
          ]
        }
      ]
    }
  ]
}